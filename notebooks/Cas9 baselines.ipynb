{
 "cells": [
  {
   "cell_type": "code",
   "execution_count": 1,
   "metadata": {},
   "outputs": [],
   "source": [
    "%load_ext autoreload\n",
    "%autoreload 2\n",
    "import glob\n",
    "import numpy as np\n",
    "from sklearn.metrics import r2_score\n",
    "from sklearn import preprocessing\n",
    "import xgboost as xgb\n",
    "from collections import defaultdict\n",
    "from matplotlib import pyplot as plt\n",
    "import pandas as pd\n",
    "from itertools import product\n",
    "import sys\n",
    "sys.path.append('../genotype')\n",
    "from data import GenotypeDataModule\n",
    "np.random.seed(42)"
   ]
  },
  {
   "cell_type": "code",
   "execution_count": 2,
   "metadata": {},
   "outputs": [],
   "source": [
    "path_pattern = \"../datasets/genotype/cas9/cas9_pairs_10nm_%s.csv\""
   ]
  },
  {
   "cell_type": "code",
   "execution_count": 3,
   "metadata": {},
   "outputs": [],
   "source": [
    "gene = \"GACGCATAAAGATGAGACGCTGG\"\n",
    "pair2int = {pair: idx for  idx, pair in enumerate(product(['A', 'C', 'G', 'T'], ['A', 'C', 'G', 'T']))}\n",
    "int2pair = {idx: pair for idx, pair in enumerate(product(['A', 'C', 'G', 'T'], ['A', 'C', 'G', 'T']))}"
   ]
  },
  {
   "cell_type": "code",
   "execution_count": 4,
   "metadata": {},
   "outputs": [],
   "source": [
    "pp = path_pattern \n",
    "dm = GenotypeDataModule(paths = [pp%\"train\", pp%\"valid\", pp%\"test\"])"
   ]
  },
  {
   "cell_type": "code",
   "execution_count": 5,
   "metadata": {},
   "outputs": [],
   "source": [
    "dm.prepare_data()\n",
    "dm.setup()"
   ]
  },
  {
   "cell_type": "code",
   "execution_count": 6,
   "metadata": {},
   "outputs": [],
   "source": [
    "X_train = dm.X_train.numpy()\n",
    "X_valid = dm.X_valid.numpy()\n",
    "X_test = dm.X_test.numpy()\n",
    "Y_train = dm.y_train.numpy()[:, 0]\n",
    "Y_valid = dm.y_valid.numpy()[:, 0]\n",
    "Y_test  = dm.y_test.numpy()[:, 0]"
   ]
  },
  {
   "cell_type": "code",
   "execution_count": 7,
   "metadata": {},
   "outputs": [],
   "source": [
    "def to_binary(X):\n",
    "    mask0 = (X == pair2int[('A', 'A')]) + (X == pair2int[('C', 'C')]) + (X == pair2int[('G', 'G')]) + (X == pair2int[('T', 'T')])\n",
    "    binary = X.copy()\n",
    "    binary[mask0] = 0\n",
    "    binary[~mask0] = 1\n",
    "    return binary"
   ]
  },
  {
   "cell_type": "code",
   "execution_count": 8,
   "metadata": {},
   "outputs": [],
   "source": [
    "X_train_binary, X_valid_binary, X_test_binary = to_binary(X_train), to_binary(X_valid), to_binary(X_test)"
   ]
  },
  {
   "cell_type": "markdown",
   "metadata": {},
   "source": [
    "# XGBoost pairs"
   ]
  },
  {
   "cell_type": "code",
   "execution_count": 9,
   "metadata": {},
   "outputs": [],
   "source": [
    "from sklearn.model_selection import PredefinedSplit, RandomizedSearchCV"
   ]
  },
  {
   "cell_type": "code",
   "execution_count": 10,
   "metadata": {},
   "outputs": [],
   "source": [
    "param_grid = {'gamma': [0,0.1,0.2,0.4,0.8,1.6,3.2,6.4,12.8,25.6,51.2,102.4, 200],\n",
    "              'learning_rate': [0.01, 0.03, 0.06, 0.1, 0.15, 0.2, 0.25, 0.300000012, 0.4, 0.5, 0.6, 0.7],\n",
    "              'max_depth': [5,6,7,8,9,10,11,12,13,14],\n",
    "              'n_estimators': [25,50,65,80,100,115,130,150,200,400,800],\n",
    "              'reg_alpha': [0,0.1,0.2,0.4,0.8,1.6,3.2,6.4,12.8,25.6,51.2,102.4,200],\n",
    "              'reg_lambda': [0,0.1,0.2,0.4,0.8,1.6,3.2,6.4,12.8,25.6,51.2,102.4,200],\n",
    "              'subsample': [0.6, 0.8, 1.0],\n",
    "              'colsample_bytree': [0.6, 0.8, 1.0]}"
   ]
  },
  {
   "cell_type": "code",
   "execution_count": 11,
   "metadata": {},
   "outputs": [],
   "source": [
    "X_train_valid = np.concatenate((X_train, X_valid), axis=0)\n",
    "Y_train_valid = np.concatenate((Y_train, Y_valid), axis=0)\n",
    "fold = np.zeros(Y_train_valid.shape, dtype=np.int32)\n",
    "fold[:len(X_train)] = -1\n",
    "ps = PredefinedSplit(fold)"
   ]
  },
  {
   "cell_type": "markdown",
   "metadata": {},
   "source": [
    "for train_index, test_index in ps.split():\n",
    "    print(train_index)\n",
    "    print(test_index)\n",
    "    print()"
   ]
  },
  {
   "cell_type": "code",
   "execution_count": null,
   "metadata": {},
   "outputs": [],
   "source": [
    "cv = RandomizedSearchCV(xgb.XGBRegressor(), param_grid, n_iter=1000, cv=ps)\n",
    "cv.fit(X_train_valid, Y_train_valid)"
   ]
  },
  {
   "cell_type": "code",
   "execution_count": null,
   "metadata": {},
   "outputs": [],
   "source": [
    "cv.best_params_"
   ]
  },
  {
   "cell_type": "code",
   "execution_count": null,
   "metadata": {},
   "outputs": [],
   "source": [
    "est = xgb.XGBRegressor(**cv.best_params_)\n",
    "est.fit(X_train, Y_train)\n",
    "Y_pred = est.predict(X_test)\n",
    "Y_pred2 = est.predict(X_train)\n",
    "r2_train = r2_score(Y_train, Y_pred2)\n",
    "rel_train = np.linalg.norm(Y_train - Y_pred2)/np.linalg.norm(Y_train)\n",
    "r2 = r2_score(Y_test, Y_pred)\n",
    "rel = np.linalg.norm(Y_test - Y_pred)/np.linalg.norm(Y_test)\n",
    "print('TRAIN  R2 score: %2.4f, relative error: %2.4f'%(r2_train, rel_train))\n",
    "print('TEST   R2 score: %2.4f, relative error: %2.4f'%(r2, rel))"
   ]
  },
  {
   "cell_type": "code",
   "execution_count": null,
   "metadata": {},
   "outputs": [],
   "source": [
    "#{'subsample': 1.0,\n",
    "# 'reg_lambda': 102.4,\n",
    "# 'reg_alpha': 0,\n",
    "# 'n_estimators': 100,\n",
    "# 'max_depth': 14,\n",
    "# 'learning_rate': 0.25,\n",
    "# 'gamma': 1.6,\n",
    "# 'colsample_bytree': 0.8}\n",
    "\n",
    "#TRAIN  R2 score: 0.4616, relative error: 0.7337\n",
    "#TEST   R2 score: 0.3989, relative error: 0.7729\n"
   ]
  },
  {
   "cell_type": "markdown",
   "metadata": {},
   "source": [
    "# XGBoost binary"
   ]
  },
  {
   "cell_type": "code",
   "execution_count": null,
   "metadata": {},
   "outputs": [],
   "source": [
    "X_train_valid_binary = np.concatenate((X_train_binary, X_valid_binary), axis=0)\n",
    "cv = RandomizedSearchCV(xgb.XGBRegressor(), param_grid, n_iter=1000, cv=ps)\n",
    "cv.fit(X_train_valid_binary, Y_train_valid)\n",
    "print(cv.best_params_)"
   ]
  },
  {
   "cell_type": "code",
   "execution_count": null,
   "metadata": {},
   "outputs": [],
   "source": [
    "est = xgb.XGBRegressor(**cv.best_params_)\n",
    "est.fit(X_train_binary, Y_train)\n",
    "Y_pred = est.predict(X_test_binary)\n",
    "Y_pred2 = est.predict(X_train_binary)\n",
    "r2_train = r2_score(Y_train, Y_pred2)\n",
    "rel_train = np.linalg.norm(Y_train - Y_pred2)/np.linalg.norm(Y_train)\n",
    "r2 = r2_score(Y_test, Y_pred)\n",
    "rel = np.linalg.norm(Y_test - Y_pred)/np.linalg.norm(Y_test)\n",
    "print('TRAIN  R2 score: %2.4f, relative error: %2.4f'%(r2_train, rel_train))\n",
    "print('TEST   R2 score: %2.4f, relative error: %2.4f'%(r2, rel))"
   ]
  },
  {
   "cell_type": "code",
   "execution_count": null,
   "metadata": {},
   "outputs": [],
   "source": [
    "#{'subsample': 1.0, 'reg_lambda': 25.6, 'reg_alpha': 0.8, 'n_estimators': 400, 'max_depth': 14, 'learning_rate': 0.300000012, 'gamma': 0.8, 'colsample_bytree': 0.8}\n",
    "#TRAIN  R2 score: 0.6008, relative error: 0.6318\n",
    "#TEST   R2 score: 0.4943, relative error: 0.7089"
   ]
  },
  {
   "cell_type": "code",
   "execution_count": null,
   "metadata": {},
   "outputs": [],
   "source": [
    "X = X_train_binary.copy()"
   ]
  },
  {
   "cell_type": "markdown",
   "metadata": {},
   "source": [
    "# XGBoost Poly"
   ]
  },
  {
   "cell_type": "code",
   "execution_count": null,
   "metadata": {},
   "outputs": [],
   "source": [
    "from sklearn.preprocessing import PolynomialFeatures"
   ]
  },
  {
   "cell_type": "code",
   "execution_count": null,
   "metadata": {},
   "outputs": [],
   "source": [
    "feats = PolynomialFeatures(degree=2)"
   ]
  },
  {
   "cell_type": "code",
   "execution_count": null,
   "metadata": {},
   "outputs": [],
   "source": [
    "X_train_poly = feats.fit_transform(X_train_binary)\n",
    "X_valid_poly = feats.fit_transform(X_valid_binary)\n",
    "X_test_poly = feats.fit_transform(X_test_binary)"
   ]
  },
  {
   "cell_type": "code",
   "execution_count": null,
   "metadata": {},
   "outputs": [],
   "source": [
    "X_train_valid_poly = np.concatenate((X_train_poly, X_valid_poly), axis=0)\n",
    "cv = RandomizedSearchCV(xgb.XGBRegressor(), param_grid, n_iter=1000, cv=ps)\n",
    "cv.fit(X_train_valid_poly, Y_train_valid)\n",
    "print(cv.best_params_)"
   ]
  },
  {
   "cell_type": "code",
   "execution_count": null,
   "metadata": {},
   "outputs": [],
   "source": [
    "est = xgb.XGBRegressor(**cv.best_params_)\n",
    "est.fit(X_train_poly, Y_train)\n",
    "Y_pred = est.predict(X_test_poly)\n",
    "Y_pred2 = est.predict(X_train_poly)\n",
    "r2_train = r2_score(Y_train, Y_pred2)\n",
    "rel_train = np.linalg.norm(Y_train - Y_pred2)/np.linalg.norm(Y_train)\n",
    "r2 = r2_score(Y_test, Y_pred)\n",
    "rel = np.linalg.norm(Y_test - Y_pred)/np.linalg.norm(Y_test)\n",
    "print('TRAIN  R2 score: %2.4f, relative error: %2.4f'%(r2_train, rel_train))\n",
    "print('TEST   R2 score: %2.4f, relative error: %2.4f'%(r2, rel))"
   ]
  },
  {
   "cell_type": "code",
   "execution_count": null,
   "metadata": {},
   "outputs": [],
   "source": [
    "# {'subsample': 0.8, 'reg_lambda': 0.8, 'reg_alpha': 12.8, 'n_estimators': 400, 'max_depth': 14, 'learning_rate': 0.2, 'gamma': 0.1, 'colsample_bytree': 0.6}\n",
    "# TRAIN  R2 score: 0.5954, relative error: 0.6361\n",
    "# TEST   R2 score: 0.4878, relative error: 0.7134"
   ]
  },
  {
   "cell_type": "code",
   "execution_count": null,
   "metadata": {},
   "outputs": [],
   "source": [
    "from sklearn.linear_model import ElasticNetCV"
   ]
  },
  {
   "cell_type": "code",
   "execution_count": null,
   "metadata": {},
   "outputs": [],
   "source": [
    "feats = PolynomialFeatures(degree=3)\n",
    "X_train_poly = feats.fit_transform(X_train_binary)\n",
    "X_valid_poly = feats.fit_transform(X_valid_binary)\n",
    "X_test_poly = feats.fit_transform(X_test_binary)\n",
    "X_train_valid_poly = np.concatenate((X_train_poly, X_valid_poly), axis=0)\n",
    "\n",
    "est = ElasticNetCV(cv=ps, max_iter=10000)\n",
    "est.fit(X_train_valid_poly, Y_train_valid)\n",
    "print('alpha', est.alpha_)\n",
    "print('l1 ratio', est.l1_ratio_)\n",
    "Y_pred = est.predict(X_test_poly)\n",
    "Y_pred2 = est.predict(X_train_poly)\n",
    "r2_train = r2_score(Y_train, Y_pred2)\n",
    "rel_train = np.linalg.norm(Y_train - Y_pred2)/np.linalg.norm(Y_train)\n",
    "r2 = r2_score(Y_test, Y_pred)\n",
    "rel = np.linalg.norm(Y_test - Y_pred)/np.linalg.norm(Y_test)\n",
    "print('TRAIN  R2 score: %2.4f, relative error: %2.4f'%(r2_train, rel_train))\n",
    "print('TEST   R2 score: %2.4f, relative error: %2.4f'%(r2, rel))"
   ]
  },
  {
   "cell_type": "code",
   "execution_count": null,
   "metadata": {},
   "outputs": [],
   "source": [
    "#alpha 0.0004776418992889931\n",
    "#l1 ratio 0.5\n",
    "#TRAIN  R2 score: 0.4645, relative error: 0.7317\n",
    "#TEST   R2 score: 0.2051, relative error: 0.8888"
   ]
  },
  {
   "cell_type": "code",
   "execution_count": null,
   "metadata": {},
   "outputs": [],
   "source": [
    "feats = PolynomialFeatures(degree=2)\n",
    "X_train_poly = feats.fit_transform(X_train_binary)\n",
    "X_valid_poly = feats.fit_transform(X_valid_binary)\n",
    "X_test_poly = feats.fit_transform(X_test_binary)\n",
    "X_train_valid_poly = np.concatenate((X_train_poly, X_valid_poly), axis=0)\n",
    "\n",
    "est = ElasticNetCV(cv=ps, max_iter=10000)\n",
    "est.fit(X_train_valid_poly, Y_train_valid)\n",
    "print('alpha', est.alpha_)\n",
    "print('l1 ratio', est.l1_ratio_)\n",
    "Y_pred = est.predict(X_test_poly)\n",
    "Y_pred2 = est.predict(X_train_poly)\n",
    "r2_train = r2_score(Y_train, Y_pred2)\n",
    "rel_train = np.linalg.norm(Y_train - Y_pred2)/np.linalg.norm(Y_train)\n",
    "r2 = r2_score(Y_test, Y_pred)\n",
    "rel = np.linalg.norm(Y_test - Y_pred)/np.linalg.norm(Y_test)\n",
    "print('TRAIN  R2 score: %2.4f, relative error: %2.4f'%(r2_train, rel_train))\n",
    "print('TEST   R2 score: %2.4f, relative error: %2.4f'%(r2, rel))"
   ]
  },
  {
   "cell_type": "code",
   "execution_count": null,
   "metadata": {},
   "outputs": [],
   "source": [
    "#alpha 0.0004776418992889931\n",
    "#l1 ratio 0.5\n",
    "#TRAIN  R2 score: 0.4004, relative error: 0.7743\n",
    "#TEST   R2 score: 0.2506, relative error: 0.8629"
   ]
  },
  {
   "cell_type": "code",
   "execution_count": null,
   "metadata": {},
   "outputs": [],
   "source": [
    "from itertools import combinations\n",
    "class WHTFeatures:\n",
    "    def __init__(self, degree):\n",
    "        self.degree = degree\n",
    "    def _create_low_degree_support(self, n):\n",
    "        degree = self.degree\n",
    "        if degree >= 0:\n",
    "            support = np.zeros((1, n), dtype=np.int32)\n",
    "        if degree >= 1:\n",
    "            support = np.concatenate([support, np.eye(n, dtype=np.int32)])\n",
    "        if degree >= 2:\n",
    "            pairs = []\n",
    "            for i in range(n-1):\n",
    "                for j in range(i+1, n):\n",
    "                    pair = np.zeros((1, n), dtype=np.int32)\n",
    "                    pair[0, i] = 1\n",
    "                    pair[0, j] = 1\n",
    "                    pairs += [pair]\n",
    "            pairs = np.concatenate(pairs, axis=0)\n",
    "            support = np.concatenate([support, pairs], axis=0)\n",
    "        if degree >= 3:\n",
    "            triples = []\n",
    "            for i, j, k in combinations(np.arange(n), 3):\n",
    "                triple = np.zeros((1, n), dtype=np.int32)\n",
    "                triple[0, i] = 1\n",
    "                triple[0, j] = 1\n",
    "                triple[0, k] = 1\n",
    "                triples += [triple]\n",
    "            triples = np.concatenate(triples, axis=0)\n",
    "            support = np.concatenate([support, triples], axis=0)\n",
    "        if degree >= 4:\n",
    "            quads = []\n",
    "            for i, j, k, l in combinations(np.arange(n), 4):\n",
    "                quad = np.zeros((1, n), dtype=np.int32)\n",
    "                quad[0, i] = 1\n",
    "                quad[0, j] = 1\n",
    "                quad[0, k] = 1\n",
    "                quad[0, l] = 1\n",
    "                quads += [quad]\n",
    "            quads = np.concatenate(quads, axis=0)\n",
    "            support = np.concatenate([support, quads], axis=0)\n",
    "        if degree > 4:\n",
    "            raise NotImplementedError(\"degree higher than 2 is not implemented\")\n",
    "        return support\n",
    "    \n",
    "    def fit_transform(self, X):\n",
    "        n = X.shape[1]\n",
    "        support = self._create_low_degree_support(n)\n",
    "        return (-1)**X.dot(support.T)"
   ]
  },
  {
   "cell_type": "code",
   "execution_count": null,
   "metadata": {},
   "outputs": [],
   "source": [
    "feats = WHTFeatures(3)\n",
    "X_train_poly = feats.fit_transform(X_train_binary)\n",
    "X_valid_poly = feats.fit_transform(X_valid_binary)\n",
    "X_test_poly = feats.fit_transform(X_test_binary)\n",
    "X_train_valid_poly = np.concatenate((X_train_poly, X_valid_poly), axis=0)\n",
    "\n",
    "est = ElasticNetCV(cv=ps, max_iter=10000)\n",
    "est.fit(X_train_valid_poly, Y_train_valid)\n",
    "print('alpha', est.alpha_)\n",
    "print('l1 ratio', est.l1_ratio_)\n",
    "Y_pred = est.predict(X_test_poly)\n",
    "Y_pred2 = est.predict(X_train_poly)\n",
    "r2_train = r2_score(Y_train, Y_pred2)\n",
    "rel_train = np.linalg.norm(Y_train - Y_pred2)/np.linalg.norm(Y_train)\n",
    "r2 = r2_score(Y_test, Y_pred)\n",
    "rel = np.linalg.norm(Y_test - Y_pred)/np.linalg.norm(Y_test)\n",
    "print('TRAIN  R2 score: %2.4f, relative error: %2.4f'%(r2_train, rel_train))\n",
    "print('TEST   R2 score: %2.4f, relative error: %2.4f'%(r2, rel))"
   ]
  },
  {
   "cell_type": "code",
   "execution_count": null,
   "metadata": {},
   "outputs": [],
   "source": [
    "# alpha 0.004687363594863787\n",
    "# l1 ratio 0.5\n",
    "# TRAIN  R2 score: 0.4553, relative error: 0.7380\n",
    "# TEST   R2 score: 0.3383, relative error: 0.8109"
   ]
  },
  {
   "cell_type": "code",
   "execution_count": null,
   "metadata": {},
   "outputs": [],
   "source": [
    "feats = WHTFeatures(2)\n",
    "X_train_poly = feats.fit_transform(X_train_binary)\n",
    "X_valid_poly = feats.fit_transform(X_valid_binary)\n",
    "X_test_poly = feats.fit_transform(X_test_binary)\n",
    "X_train_valid_poly = np.concatenate((X_train_poly, X_valid_poly), axis=0)\n",
    "\n",
    "est = ElasticNetCV(cv=ps, max_iter=10000)\n",
    "est.fit(X_train_valid_poly, Y_train_valid)\n",
    "print('alpha', est.alpha_)\n",
    "print('l1 ratio', est.l1_ratio_)\n",
    "Y_pred = est.predict(X_test_poly)\n",
    "Y_pred2 = est.predict(X_train_poly)\n",
    "r2_train = r2_score(Y_train, Y_pred2)\n",
    "rel_train = np.linalg.norm(Y_train - Y_pred2)/np.linalg.norm(Y_train)\n",
    "r2 = r2_score(Y_test, Y_pred)\n",
    "rel = np.linalg.norm(Y_test - Y_pred)/np.linalg.norm(Y_test)\n",
    "print('TRAIN  R2 score: %2.4f, relative error: %2.4f'%(r2_train, rel_train))\n",
    "print('TEST   R2 score: %2.4f, relative error: %2.4f'%(r2, rel))"
   ]
  },
  {
   "cell_type": "code",
   "execution_count": null,
   "metadata": {},
   "outputs": [],
   "source": [
    "#alpha 0.001368444642567742\n",
    "#l1 ratio 0.5\n",
    "#TRAIN  R2 score: 0.3917, relative error: 0.7799\n",
    "#TEST   R2 score: 0.2799, relative error: 0.8459"
   ]
  },
  {
   "cell_type": "code",
   "execution_count": null,
   "metadata": {},
   "outputs": [],
   "source": [
    "feats = WHTFeatures(4)\n",
    "X_train_poly = feats.fit_transform(X_train_binary)\n",
    "X_valid_poly = feats.fit_transform(X_valid_binary)\n",
    "X_test_poly = feats.fit_transform(X_test_binary)\n",
    "X_train_valid_poly = np.concatenate((X_train_poly, X_valid_poly), axis=0)\n",
    "\n",
    "est = ElasticNetCV(cv=ps, max_iter=10000)\n",
    "est.fit(X_train_valid_poly, Y_train_valid)\n",
    "print('alpha', est.alpha_)\n",
    "print('l1 ratio', est.l1_ratio_)\n",
    "Y_pred = est.predict(X_test_poly)\n",
    "Y_pred2 = est.predict(X_train_poly)\n",
    "r2_train = r2_score(Y_train, Y_pred2)\n",
    "rel_train = np.linalg.norm(Y_train - Y_pred2)/np.linalg.norm(Y_train)\n",
    "r2 = r2_score(Y_test, Y_pred)\n",
    "rel = np.linalg.norm(Y_test - Y_pred)/np.linalg.norm(Y_test)\n",
    "print('TRAIN  R2 score: %2.4f, relative error: %2.4f'%(r2_train, rel_train))\n",
    "print('TEST   R2 score: %2.4f, relative error: %2.4f'%(r2, rel))"
   ]
  },
  {
   "cell_type": "code",
   "execution_count": null,
   "metadata": {},
   "outputs": [],
   "source": []
  }
 ],
 "metadata": {
  "kernelspec": {
   "display_name": "Python 3 (ipykernel)",
   "language": "python",
   "name": "python3"
  },
  "language_info": {
   "codemirror_mode": {
    "name": "ipython",
    "version": 3
   },
   "file_extension": ".py",
   "mimetype": "text/x-python",
   "name": "python",
   "nbconvert_exporter": "python",
   "pygments_lexer": "ipython3",
   "version": "3.9.13"
  }
 },
 "nbformat": 4,
 "nbformat_minor": 4
}
