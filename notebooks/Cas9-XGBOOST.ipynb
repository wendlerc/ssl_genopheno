{
 "cells": [
  {
   "cell_type": "code",
   "execution_count": 1,
   "metadata": {},
   "outputs": [],
   "source": [
    "%load_ext autoreload\n",
    "%autoreload 2\n",
    "import glob\n",
    "import numpy as np\n",
    "from sklearn.metrics import r2_score\n",
    "from sklearn import preprocessing\n",
    "import xgboost as xgb\n",
    "from collections import defaultdict\n",
    "from matplotlib import pyplot as plt\n",
    "import pandas as pd\n",
    "np.random.seed(42)"
   ]
  },
  {
   "cell_type": "code",
   "execution_count": 2,
   "metadata": {},
   "outputs": [],
   "source": [
    "file1 = '../datasets/genotype/cas9/10nm/pnas.1700557114.sd01.txt'\n",
    "file2 = '../datasets/genotype/cas9/10nm/pnas.1700557114.sd02.txt'\n",
    "file3 = '../datasets/genotype/cas9/10nm/pnas.1700557114.sd03.txt'\n",
    "file4 = '../datasets/genotype/cas9/10nm/pnas.1700557114.sd04.txt'\n",
    "file5 = '../datasets/genotype/cas9/1nm/pnas.1700557114.sd05.txt'\n",
    "file6 = '../datasets/genotype/cas9/1nm/pnas.1700557114.sd06.txt'"
   ]
  },
  {
   "cell_type": "code",
   "execution_count": 3,
   "metadata": {},
   "outputs": [],
   "source": [
    "letter2int = {'A':1, 'C':2, 'G':3, 'T':4}\n",
    "\n",
    "def read_cas9_dataset(files):\n",
    "    signal_original = defaultdict(list) \n",
    "    signal_hamming = defaultdict(list)\n",
    "    \n",
    "    for file in files:\n",
    "        with open(file, 'r') as f:\n",
    "            for line in f.readlines()[1:]:\n",
    "                tokens = line.split('\\t')\n",
    "                signal_original[tokens[2]] += [float(tokens[5])]\n",
    "                hamming = np.zeros(len(tokens[1]), np.int32)\n",
    "                if int(tokens[3]) > 0:\n",
    "                    positions = np.asarray([int(pos[:-1]) for pos in tokens[2].split(':')])\n",
    "                    values = np.asarray([letter2int[pos[-1]] for pos in tokens[2].split(':')])\n",
    "                    hamming[positions] = values\n",
    "                key_hamming = tuple(hamming.tolist())\n",
    "                signal_hamming[key_hamming] += [float(tokens[5])]\n",
    "                \n",
    "        \n",
    "    X = np.asarray(list(signal_hamming.keys()))\n",
    "    Y = np.asarray([np.mean(signal_hamming[key]) for key in signal_hamming.keys()])\n",
    "    return X, Y, signal_original, signal_hamming"
   ]
  },
  {
   "cell_type": "code",
   "execution_count": 4,
   "metadata": {},
   "outputs": [],
   "source": [
    "X, Y, s1, s_hamming = read_cas9_dataset([file1, file2, file3, file4, file5, file6])\n",
    "counts = np.asarray([len(val) for key, val in s_hamming.items()])\n",
    "means = np.asarray([np.mean(s_hamming[key]) for key in s_hamming.keys()])\n",
    "stds = np.asarray([np.std(s_hamming[key]) for key in s_hamming.keys()])\n",
    "#mask = 2*stds < np.abs(means)\n",
    "mask = counts > 3 # for 1 nm data here I used 0 instead of 3\n",
    "means_better = means[mask]\n",
    "X = X[mask]\n",
    "Y = Y[mask]\n",
    "X = X > 0 \n",
    "\n",
    "train_fraction = 0.8\n",
    "valid_fraction = 0.1\n",
    "\n",
    "scaler = preprocessing.StandardScaler().fit(Y[:, np.newaxis])\n",
    "Y = scaler.transform(Y[:, np.newaxis])[:, 0]\n",
    "n_train = int(len(X)*train_fraction)\n",
    "n_valid = int(len(X)*valid_fraction)\n",
    "perm = np.random.permutation(len(X))\n",
    "X_train = X[perm[:n_train]]\n",
    "X_valid = X[perm[n_train:n_train+n_valid]]\n",
    "X_test = X[perm[n_train+n_valid:]]\n",
    "Y_train = Y[perm[:n_train]]\n",
    "Y_valid = Y[perm[n_train:n_train+n_valid]]\n",
    "Y_test = Y[perm[n_train+n_valid:]]"
   ]
  },
  {
   "cell_type": "code",
   "execution_count": 5,
   "metadata": {},
   "outputs": [
    {
     "data": {
      "text/plain": [
       "[0.0001132375, 6.780375e-05, -0.000125826, -5.708235e-05]"
      ]
     },
     "execution_count": 5,
     "metadata": {},
     "output_type": "execute_result"
    }
   ],
   "source": [
    "s_hamming[tuple([1,0,1,1,0,4,0,3,4]+14*[0])]"
   ]
  },
  {
   "cell_type": "code",
   "execution_count": 6,
   "metadata": {},
   "outputs": [],
   "source": [
    "counts = np.asarray([len(val) for key, val in s_hamming.items()])"
   ]
  },
  {
   "cell_type": "code",
   "execution_count": 7,
   "metadata": {},
   "outputs": [
    {
     "data": {
      "text/plain": [
       "23716"
      ]
     },
     "execution_count": 7,
     "metadata": {},
     "output_type": "execute_result"
    }
   ],
   "source": [
    "mask.sum()"
   ]
  },
  {
   "cell_type": "code",
   "execution_count": 8,
   "metadata": {},
   "outputs": [
    {
     "data": {
      "text/plain": [
       "[<matplotlib.lines.Line2D at 0x7f83a8193160>]"
      ]
     },
     "execution_count": 8,
     "metadata": {},
     "output_type": "execute_result"
    },
    {
     "data": {
      "image/png": "[encoded data removed]",
      "text/plain": [
       "<Figure size 640x480 with 1 Axes>"
      ]
     },
     "metadata": {},
     "output_type": "display_data"
    }
   ],
   "source": [
    "plt.plot(sorted(counts))"
   ]
  },
  {
   "cell_type": "code",
   "execution_count": 9,
   "metadata": {},
   "outputs": [],
   "source": [
    "est = xgb.XGBRegressor(n_estimators=100)"
   ]
  },
  {
   "cell_type": "code",
   "execution_count": null,
   "metadata": {},
   "outputs": [],
   "source": [
    "est.fit(X_train, Y_train)"
   ]
  },
  {
   "cell_type": "code",
   "execution_count": null,
   "metadata": {},
   "outputs": [],
   "source": [
    "Y_pred = est.predict(X_test)\n",
    "Y_pred2 = est.predict(X_train)\n",
    "r2_train = r2_score(Y_train, Y_pred2)\n",
    "rel_train = np.linalg.norm(Y_train - Y_pred2)/np.linalg.norm(Y_train)\n",
    "r2 = r2_score(Y_test, Y_pred)\n",
    "rel = np.linalg.norm(Y_test - Y_pred)/np.linalg.norm(Y_test)"
   ]
  },
  {
   "cell_type": "code",
   "execution_count": null,
   "metadata": {},
   "outputs": [],
   "source": [
    "print('TRAIN  R2 score: %2.4f, relative error: %2.4f'%(r2_train, rel_train))\n",
    "print('TEST   R2 score: %2.4f, relative error: %2.4f'%(r2, rel))"
   ]
  },
  {
   "cell_type": "code",
   "execution_count": null,
   "metadata": {},
   "outputs": [],
   "source": [
    "# X>0:\n",
    "# XGboost default: \n",
    "#  TRAIN  R2 score: 0.3371, relative error: 0.8142\n",
    "#  TEST   R2 score: 0.1386, relative error: 0.9277\n",
    "\n",
    "# X hamming:\n",
    "# XGBoost default:\n",
    "#  TRAIN  R2 score: 0.4170, relative error: 0.7635\n",
    "#  TEST   R2 score: 0.1574, relative error: 0.9176"
   ]
  },
  {
   "cell_type": "code",
   "execution_count": null,
   "metadata": {},
   "outputs": [],
   "source": [
    "Y"
   ]
  },
  {
   "cell_type": "code",
   "execution_count": null,
   "metadata": {},
   "outputs": [],
   "source": [
    "Y_toy = (X != 0).sum(axis=1)"
   ]
  },
  {
   "cell_type": "code",
   "execution_count": null,
   "metadata": {},
   "outputs": [],
   "source": [
    "Y_toy = (Y_toy - Y_toy.mean())/Y_toy.std()\n"
   ]
  },
  {
   "cell_type": "code",
   "execution_count": null,
   "metadata": {},
   "outputs": [],
   "source": []
  },
  {
   "cell_type": "code",
   "execution_count": 17,
   "metadata": {},
   "outputs": [],
   "source": [
    "def save_csv(X, Y, name):\n",
    "    df = {}\n",
    "    for idx, feat in enumerate(X.T):\n",
    "        df['pos%d'%idx] = feat\n",
    "    df['y'] = Y\n",
    "    df = pd.DataFrame(df)\n",
    "    df.to_csv(name)"
   ]
  },
  {
   "cell_type": "code",
   "execution_count": 18,
   "metadata": {},
   "outputs": [],
   "source": [
    "save_csv(X, Y_toy, 'toy.csv')"
   ]
  },
  {
   "cell_type": "code",
   "execution_count": 19,
   "metadata": {},
   "outputs": [],
   "source": [
    "save_csv(X, Y, 'cas9_binary_1nm_full.csv')\n",
    "save_csv(X_train, Y_train, 'cas9_binary_1nm_train.csv')\n",
    "save_csv(X_valid, Y_valid, 'cas9_binary_1nm_valid.csv')\n",
    "save_csv(X_test, Y_test, 'cas9_binary_1nm_test.csv')"
   ]
  }
 ],
 "metadata": {
  "kernelspec": {
   "display_name": "Python 3 (ipykernel)",
   "language": "python",
   "name": "python3"
  },
  "language_info": {
   "codemirror_mode": {
    "name": "ipython",
    "version": 3
   },
   "file_extension": ".py",
   "mimetype": "text/x-python",
   "name": "python",
   "nbconvert_exporter": "python",
   "pygments_lexer": "ipython3",
   "version": "3.9.13"
  }
 },
 "nbformat": 4,
 "nbformat_minor": 4
}
